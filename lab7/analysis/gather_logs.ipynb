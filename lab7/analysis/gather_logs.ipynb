{
 "cells": [
  {
   "cell_type": "code",
   "execution_count": 1,
   "metadata": {},
   "outputs": [],
   "source": [
    "import numpy as np\n",
    "import pandas as pd\n",
    "import matplotlib.pyplot as plt\n",
    "import os.path\n",
    "import os\n",
    "import math\n",
    "import copy\n",
    "import statistics\n",
    "\n",
    "pd.set_option('display.max_rows', None)"
   ]
  },
  {
   "cell_type": "markdown",
   "metadata": {},
   "source": [
    "# Gather logs"
   ]
  },
  {
   "cell_type": "markdown",
   "metadata": {},
   "source": [
    "### RAW data logs"
   ]
  },
  {
   "cell_type": "code",
   "execution_count": 2,
   "metadata": {},
   "outputs": [],
   "source": [
    "dir_path = '../logs/'"
   ]
  },
  {
   "cell_type": "code",
   "execution_count": 3,
   "metadata": {},
   "outputs": [],
   "source": [
    "times_dict = {\n",
    "    'bucket_split_time': None,\n",
    "    'bucket_sort_time': None,\n",
    "    'bucket_to_array_time': None,\n",
    "    'table_fill_time': None,\n",
    "    'program_time': None\n",
    "}"
   ]
  },
  {
   "cell_type": "code",
   "execution_count": 4,
   "metadata": {},
   "outputs": [],
   "source": [
    "run_dict = {\n",
    "    'algorithm': None,\n",
    "    'points': None,\n",
    "    'buckets': None,\n",
    "    'threads': None,\n",
    "    'times': []\n",
    "}"
   ]
  },
  {
   "cell_type": "code",
   "execution_count": 5,
   "metadata": {},
   "outputs": [],
   "source": [
    "all_run_dict_raw_data = []"
   ]
  },
  {
   "cell_type": "code",
   "execution_count": 6,
   "metadata": {},
   "outputs": [],
   "source": [
    "df = pd.DataFrame()\n",
    "\n",
    "for filename in os.listdir(dir_path):\n",
    "    if filename.endswith('.log'):\n",
    "        # Create new entry structures\n",
    "        tmp_run_dict = copy.deepcopy(run_dict)\n",
    "        tmp_times_dict = copy.deepcopy(times_dict)\n",
    "        \n",
    "        # Fill run_dict structure\n",
    "        run_specification = filename.split('_')\n",
    "        tmp_run_dict['algorithm'] = int(run_specification[1])\n",
    "        tmp_run_dict['points'] = int(run_specification[3])\n",
    "        tmp_run_dict['buckets'] = int(run_specification[5])\n",
    "        tmp_run_dict['threads'] = int(run_specification[7][0])\n",
    "        \n",
    "        # Fill times_dict structure\n",
    "        with open(dir_path+filename, 'r') as file_object:\n",
    "            for line in file_object:\n",
    "                if line.startswith('-'):\n",
    "                    continue\n",
    "                elif line.startswith('program_time'):\n",
    "                    line_words = line.split(' ')\n",
    "                    tmp_times_dict[line_words[0]] = line_words[1]\n",
    "                    tmp_run_dict['times'].append(copy.deepcopy(tmp_times_dict))\n",
    "                else:\n",
    "                    line_words = line.split(' ')\n",
    "                    tmp_times_dict[line_words[0]] = line_words[1]\n",
    "\n",
    "        all_run_dict_raw_data.append(copy.deepcopy(tmp_run_dict))"
   ]
  },
  {
   "cell_type": "code",
   "execution_count": 7,
   "metadata": {},
   "outputs": [
    {
     "data": {
      "text/plain": [
       "[{'algorithm': 2,\n",
       "  'points': 4000000,\n",
       "  'buckets': 4000,\n",
       "  'threads': 1,\n",
       "  'times': [{'bucket_split_time': '0.290938',\n",
       "    'bucket_sort_time': '0.964506',\n",
       "    'bucket_to_array_time': '0.077626',\n",
       "    'table_fill_time': '0.9145',\n",
       "    'program_time': '2.26512'},\n",
       "   {'bucket_split_time': '0.270698',\n",
       "    'bucket_sort_time': '0.965475',\n",
       "    'bucket_to_array_time': '0.078212',\n",
       "    'table_fill_time': '0.738281',\n",
       "    'program_time': '2.06971'},\n",
       "   {'bucket_split_time': '0.282633',\n",
       "    'bucket_sort_time': '0.965773',\n",
       "    'bucket_to_array_time': '0.079645',\n",
       "    'table_fill_time': '0.737586',\n",
       "    'program_time': '2.08202'},\n",
       "   {'bucket_split_time': '0.288938',\n",
       "    'bucket_sort_time': '0.963611',\n",
       "    'bucket_to_array_time': '0.122694',\n",
       "    'table_fill_time': '0.742299',\n",
       "    'program_time': '2.14572'},\n",
       "   {'bucket_split_time': '0.339577',\n",
       "    'bucket_sort_time': '0.962577',\n",
       "    'bucket_to_array_time': '0.077254',\n",
       "    'table_fill_time': '0.972534',\n",
       "    'program_time': '2.37226'},\n",
       "   {'bucket_split_time': '0.287897',\n",
       "    'bucket_sort_time': '0.959996',\n",
       "    'bucket_to_array_time': '0.077474',\n",
       "    'table_fill_time': '0.735581',\n",
       "    'program_time': '2.0793'},\n",
       "   {'bucket_split_time': '0.288124',\n",
       "    'bucket_sort_time': '0.961931',\n",
       "    'bucket_to_array_time': '0.077752',\n",
       "    'table_fill_time': '0.738745',\n",
       "    'program_time': '2.08135'},\n",
       "   {'bucket_split_time': '0.283574',\n",
       "    'bucket_sort_time': '0.960678',\n",
       "    'bucket_to_array_time': '0.077857',\n",
       "    'table_fill_time': '0.734984',\n",
       "    'program_time': '2.07365'},\n",
       "   {'bucket_split_time': '0.284327',\n",
       "    'bucket_sort_time': '0.990248',\n",
       "    'bucket_to_array_time': '0.078606',\n",
       "    'table_fill_time': '1.35417',\n",
       "    'program_time': '2.72517'},\n",
       "   {'bucket_split_time': '0.277152',\n",
       "    'bucket_sort_time': '0.965452',\n",
       "    'bucket_to_array_time': '0.078368',\n",
       "    'table_fill_time': '0.7397',\n",
       "    'program_time': '2.07841'}]},\n",
       " {'algorithm': 1,\n",
       "  'points': 4000000,\n",
       "  'buckets': 400000,\n",
       "  'threads': 4,\n",
       "  'times': [{'bucket_split_time': '1.13556',\n",
       "    'bucket_sort_time': '0.173954',\n",
       "    'bucket_to_array_time': '0.102701',\n",
       "    'table_fill_time': '0.317987',\n",
       "    'program_time': '1.95226'},\n",
       "   {'bucket_split_time': '0.785992',\n",
       "    'bucket_sort_time': '0.157118',\n",
       "    'bucket_to_array_time': '0.100304',\n",
       "    'table_fill_time': '0.398956',\n",
       "    'program_time': '1.63081'},\n",
       "   {'bucket_split_time': '1.1001',\n",
       "    'bucket_sort_time': '0.158855',\n",
       "    'bucket_to_array_time': '0.078501',\n",
       "    'table_fill_time': '0.372487',\n",
       "    'program_time': '1.92185'},\n",
       "   {'bucket_split_time': '0.81973',\n",
       "    'bucket_sort_time': '0.166125',\n",
       "    'bucket_to_array_time': '0.095342',\n",
       "    'table_fill_time': '0.365625',\n",
       "    'program_time': '1.65392'},\n",
       "   {'bucket_split_time': '1.08863',\n",
       "    'bucket_sort_time': '0.169066',\n",
       "    'bucket_to_array_time': '0.098485',\n",
       "    'table_fill_time': '0.360481',\n",
       "    'program_time': '1.93395'},\n",
       "   {'bucket_split_time': '0.92551',\n",
       "    'bucket_sort_time': '0.164803',\n",
       "    'bucket_to_array_time': '0.094639',\n",
       "    'table_fill_time': '0.310043',\n",
       "    'program_time': '1.69946'},\n",
       "   {'bucket_split_time': '1.0228',\n",
       "    'bucket_sort_time': '0.192816',\n",
       "    'bucket_to_array_time': '0.124716',\n",
       "    'table_fill_time': '0.357401',\n",
       "    'program_time': '1.90047'},\n",
       "   {'bucket_split_time': '1.03593',\n",
       "    'bucket_sort_time': '0.162014',\n",
       "    'bucket_to_array_time': '0.094721',\n",
       "    'table_fill_time': '0.293558',\n",
       "    'program_time': '1.79202'},\n",
       "   {'bucket_split_time': '0.984134',\n",
       "    'bucket_sort_time': '0.196717',\n",
       "    'bucket_to_array_time': '0.107355',\n",
       "    'table_fill_time': '0.368786',\n",
       "    'program_time': '1.84983'},\n",
       "   {'bucket_split_time': '1.02252',\n",
       "    'bucket_sort_time': '0.163911',\n",
       "    'bucket_to_array_time': '0.092278',\n",
       "    'table_fill_time': '0.361833',\n",
       "    'program_time': '1.84475'}]},\n",
       " {'algorithm': 2,\n",
       "  'points': 20000000,\n",
       "  'buckets': 200000,\n",
       "  'threads': 2,\n",
       "  'times': [{'bucket_split_time': '2.76367',\n",
       "    'bucket_sort_time': '3.37714',\n",
       "    'bucket_to_array_time': '0.408947',\n",
       "    'table_fill_time': '2.42942',\n",
       "    'program_time': '9.24812'},\n",
       "   {'bucket_split_time': '2.77961',\n",
       "    'bucket_sort_time': '3.3847',\n",
       "    'bucket_to_array_time': '0.411099',\n",
       "    'table_fill_time': '2.42521',\n",
       "    'program_time': '9.26737'},\n",
       "   {'bucket_split_time': '2.74454',\n",
       "    'bucket_sort_time': '3.38131',\n",
       "    'bucket_to_array_time': '0.405549',\n",
       "    'table_fill_time': '2.39818',\n",
       "    'program_time': '9.19385'},\n",
       "   {'bucket_split_time': '2.76312',\n",
       "    'bucket_sort_time': '3.36826',\n",
       "    'bucket_to_array_time': '0.411231',\n",
       "    'table_fill_time': '2.38992',\n",
       "    'program_time': '9.21162'},\n",
       "   {'bucket_split_time': '2.767',\n",
       "    'bucket_sort_time': '3.37774',\n",
       "    'bucket_to_array_time': '0.409396',\n",
       "    'table_fill_time': '2.36646',\n",
       "    'program_time': '9.19069'},\n",
       "   {'bucket_split_time': '2.77949',\n",
       "    'bucket_sort_time': '3.39239',\n",
       "    'bucket_to_array_time': '0.410202',\n",
       "    'table_fill_time': '2.41576',\n",
       "    'program_time': '9.26743'},\n",
       "   {'bucket_split_time': '2.76893',\n",
       "    'bucket_sort_time': '3.36064',\n",
       "    'bucket_to_array_time': '0.410993',\n",
       "    'table_fill_time': '2.45744',\n",
       "    'program_time': '9.26663'},\n",
       "   {'bucket_split_time': '2.76693',\n",
       "    'bucket_sort_time': '3.36249',\n",
       "    'bucket_to_array_time': '0.406463',\n",
       "    'table_fill_time': '2.38963',\n",
       "    'program_time': '9.19326'},\n",
       "   {'bucket_split_time': '2.72448',\n",
       "    'bucket_sort_time': '3.35995',\n",
       "    'bucket_to_array_time': '0.411324',\n",
       "    'table_fill_time': '2.4667',\n",
       "    'program_time': '9.22792'},\n",
       "   {'bucket_split_time': '2.7716',\n",
       "    'bucket_sort_time': '3.3669',\n",
       "    'bucket_to_array_time': '0.41041',\n",
       "    'table_fill_time': '2.43809',\n",
       "    'program_time': '9.25481'}]}]"
      ]
     },
     "execution_count": 7,
     "metadata": {},
     "output_type": "execute_result"
    }
   ],
   "source": [
    "all_run_dict_raw_data[:3]"
   ]
  },
  {
   "cell_type": "markdown",
   "metadata": {},
   "source": [
    "### Mean and std_dev data logs"
   ]
  },
  {
   "cell_type": "code",
   "execution_count": 8,
   "metadata": {},
   "outputs": [],
   "source": [
    "run_dict_mean_times = {\n",
    "    'algorithm': None,\n",
    "    'points': None,\n",
    "    'buckets': None,\n",
    "    'threads': None,\n",
    "    'times': {\n",
    "        'bucket_split': {\n",
    "            'mean_time': None,\n",
    "            'std_dev': None },\n",
    "        'bucket_sort': {\n",
    "            'mean_time': None,\n",
    "            'std_dev': None },\n",
    "        'bucket_to_array': {\n",
    "            'mean_time': None,\n",
    "            'std_dev': None },\n",
    "        'table_fill': {\n",
    "            'mean_time': None,\n",
    "            'std_dev': None },\n",
    "        'program_execution': {\n",
    "            'mean_time': None,\n",
    "            'std_dev': None }\n",
    "    }\n",
    "}"
   ]
  },
  {
   "cell_type": "code",
   "execution_count": 9,
   "metadata": {},
   "outputs": [],
   "source": [
    "def get_measurements(run_measurement, type_of_measurement):\n",
    "    return list(map(lambda x: float(x[type_of_measurement]), run_measurement['times']))"
   ]
  },
  {
   "cell_type": "code",
   "execution_count": 10,
   "metadata": {},
   "outputs": [],
   "source": [
    "all_run_dict_mean_times = []"
   ]
  },
  {
   "cell_type": "code",
   "execution_count": 11,
   "metadata": {},
   "outputs": [],
   "source": [
    "for elem in all_run_dict_raw_data:\n",
    "    # Create new entry structures\n",
    "    tmp_run_dict = copy.deepcopy(run_dict_mean_times)\n",
    "    \n",
    "    tmp_run_dict['algorithm'] = elem['algorithm']\n",
    "    tmp_run_dict['points'] = elem['points']\n",
    "    tmp_run_dict['buckets'] = elem['buckets']\n",
    "    tmp_run_dict['threads'] = elem['threads']\n",
    "    \n",
    "    tmp_run_dict['times']['bucket_split']['mean_time'] = \\\n",
    "        statistics.mean(get_measurements(elem, 'bucket_split_time'))\n",
    "    tmp_run_dict['times']['bucket_split']['std_dev'] = \\\n",
    "        statistics.stdev(get_measurements(elem, 'bucket_split_time'))\n",
    "    tmp_run_dict['times']['bucket_sort']['mean_time'] = \\\n",
    "        statistics.mean(get_measurements(elem, 'bucket_sort_time'))\n",
    "    tmp_run_dict['times']['bucket_sort']['std_dev'] = \\\n",
    "        statistics.stdev(get_measurements(elem, 'bucket_sort_time')) \n",
    "    tmp_run_dict['times']['bucket_to_array']['mean_time'] = \\\n",
    "        statistics.mean(get_measurements(elem, 'bucket_to_array_time'))\n",
    "    tmp_run_dict['times']['bucket_to_array']['std_dev'] = \\\n",
    "        statistics.stdev(get_measurements(elem, 'bucket_to_array_time')) \n",
    "    tmp_run_dict['times']['table_fill']['mean_time'] = \\\n",
    "        statistics.mean(get_measurements(elem, 'table_fill_time'))\n",
    "    tmp_run_dict['times']['table_fill']['std_dev'] = \\\n",
    "        statistics.stdev(get_measurements(elem, 'table_fill_time')) \n",
    "    tmp_run_dict['times']['program_execution']['mean_time'] = \\\n",
    "        statistics.mean(get_measurements(elem, 'program_time'))\n",
    "    tmp_run_dict['times']['program_execution']['std_dev'] = \\\n",
    "        statistics.stdev(get_measurements(elem, 'program_time'))\n",
    "    \n",
    "    all_run_dict_mean_times.append(copy.deepcopy(tmp_run_dict))"
   ]
  },
  {
   "cell_type": "code",
   "execution_count": 12,
   "metadata": {},
   "outputs": [
    {
     "data": {
      "text/plain": [
       "[{'algorithm': 2,\n",
       "  'points': 4000000,\n",
       "  'buckets': 4000,\n",
       "  'threads': 1,\n",
       "  'times': {'bucket_split': {'mean_time': 0.2893858,\n",
       "    'std_dev': 0.018647143324857507},\n",
       "   'bucket_sort': {'mean_time': 0.9660247, 'std_dev': 0.008750692722420458},\n",
       "   'bucket_to_array': {'mean_time': 0.0825488,\n",
       "    'std_dev': 0.014122269535894166},\n",
       "   'table_fill': {'mean_time': 0.840838, 'std_dev': 0.20002902517607013},\n",
       "   'program_execution': {'mean_time': 2.1972709999999998,\n",
       "    'std_dev': 0.2115758394340483}}},\n",
       " {'algorithm': 1,\n",
       "  'points': 4000000,\n",
       "  'buckets': 400000,\n",
       "  'threads': 4,\n",
       "  'times': {'bucket_split': {'mean_time': 0.9920906,\n",
       "    'std_dev': 0.1164480603036774},\n",
       "   'bucket_sort': {'mean_time': 0.1705379, 'std_dev': 0.01366672582466871},\n",
       "   'bucket_to_array': {'mean_time': 0.0989042, 'std_dev': 0.01184526796094823},\n",
       "   'table_fill': {'mean_time': 0.3507157, 'std_dev': 0.03267011324352036},\n",
       "   'program_execution': {'mean_time': 1.817932,\n",
       "    'std_dev': 0.11901165823378632}}}]"
      ]
     },
     "execution_count": 12,
     "metadata": {},
     "output_type": "execute_result"
    }
   ],
   "source": [
    "all_run_dict_mean_times[:2]"
   ]
  },
  {
   "cell_type": "markdown",
   "metadata": {},
   "source": [
    "# Exercise 2"
   ]
  },
  {
   "cell_type": "code",
   "execution_count": 13,
   "metadata": {},
   "outputs": [],
   "source": [
    "point_types = set(map(lambda x: x['points'], all_run_dict_mean_times))\n",
    "buckets_types = set(map(lambda x: x['buckets'], all_run_dict_mean_times))\n",
    "threads_types = set(map(lambda x: x['threads'], all_run_dict_mean_times))"
   ]
  },
  {
   "cell_type": "code",
   "execution_count": 14,
   "metadata": {},
   "outputs": [],
   "source": [
    "speedup_dict = {\n",
    "    'algorithm': None,\n",
    "    'points': None,\n",
    "    'buckets': None,\n",
    "    'threads': {\n",
    "        '2': None,\n",
    "        '3': None,\n",
    "        '4': None,\n",
    "    }\n",
    "}"
   ]
  },
  {
   "cell_type": "markdown",
   "metadata": {},
   "source": [
    "### algorithm 2"
   ]
  },
  {
   "cell_type": "code",
   "execution_count": 15,
   "metadata": {},
   "outputs": [],
   "source": [
    "algorithm_2_runs = list(filter(lambda x: x['algorithm'] == 2, all_run_dict_mean_times))"
   ]
  },
  {
   "cell_type": "code",
   "execution_count": 16,
   "metadata": {},
   "outputs": [],
   "source": [
    "algorithm_2_speedup = []"
   ]
  },
  {
   "cell_type": "code",
   "execution_count": 17,
   "metadata": {},
   "outputs": [],
   "source": [
    "for points in point_types:\n",
    "    for bucket in buckets_types:\n",
    "        selected_elems = list(filter(lambda x: x['points']==points and \\\n",
    "                                               x['buckets']==bucket, \n",
    "                                               algorithm_2_runs))\n",
    "        \n",
    "        if selected_elems:\n",
    "            # Create new entry structures\n",
    "            tmp_run_dict = copy.deepcopy(speedup_dict)\n",
    "\n",
    "            tmp_run_dict['algorithm'] = selected_elems[0]['algorithm']\n",
    "            tmp_run_dict['points'] = selected_elems[0]['points']\n",
    "            tmp_run_dict['buckets'] = selected_elems[0]['buckets']\n",
    "\n",
    "            time_1_threads = float(list(filter(lambda x: x['threads'] == 1, selected_elems))[0]['times']['program_execution']['mean_time'])\n",
    "            time_2_threads = float(list(filter(lambda x: x['threads'] == 2, selected_elems))[0]['times']['program_execution']['mean_time'])\n",
    "            time_3_threads = float(list(filter(lambda x: x['threads'] == 3, selected_elems))[0]['times']['program_execution']['mean_time'])\n",
    "            time_4_threads = float(list(filter(lambda x: x['threads'] == 4, selected_elems))[0]['times']['program_execution']['mean_time'])\n",
    "            \n",
    "            tmp_run_dict['threads']['2'] = time_2_threads / time_1_threads\n",
    "            tmp_run_dict['threads']['3'] = time_3_threads / time_1_threads\n",
    "            tmp_run_dict['threads']['4'] = time_4_threads / time_1_threads\n",
    "            \n",
    "            algorithm_2_speedup.append(copy.deepcopy(tmp_run_dict))"
   ]
  },
  {
   "cell_type": "code",
   "execution_count": 18,
   "metadata": {},
   "outputs": [
    {
     "data": {
      "text/plain": [
       "[{'algorithm': 2,\n",
       "  'points': 4000000,\n",
       "  'buckets': 400000,\n",
       "  'threads': {'2': 0.9877617031862473,\n",
       "   '3': 1.2719012390609696,\n",
       "   '4': 1.0162724287195872}}]"
      ]
     },
     "execution_count": 18,
     "metadata": {},
     "output_type": "execute_result"
    }
   ],
   "source": [
    "algorithm_2_speedup[:1]"
   ]
  }
 ],
 "metadata": {
  "kernelspec": {
   "display_name": "Python 3",
   "language": "python",
   "name": "python3"
  },
  "language_info": {
   "codemirror_mode": {
    "name": "ipython",
    "version": 3
   },
   "file_extension": ".py",
   "mimetype": "text/x-python",
   "name": "python",
   "nbconvert_exporter": "python",
   "pygments_lexer": "ipython3",
   "version": "3.8.5"
  }
 },
 "nbformat": 4,
 "nbformat_minor": 4
}
