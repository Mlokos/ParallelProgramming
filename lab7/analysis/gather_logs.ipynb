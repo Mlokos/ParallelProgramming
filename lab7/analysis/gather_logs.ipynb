{
 "cells": [
  {
   "cell_type": "code",
   "execution_count": 1,
   "metadata": {},
   "outputs": [],
   "source": [
    "import numpy as np\n",
    "import pandas as pd\n",
    "import matplotlib.pyplot as plt\n",
    "import os.path\n",
    "import os\n",
    "import math\n",
    "import copy\n",
    "import statistics\n",
    "\n",
    "pd.set_option('display.max_rows', None)"
   ]
  },
  {
   "cell_type": "markdown",
   "metadata": {},
   "source": [
    "# Gather logs"
   ]
  },
  {
   "cell_type": "markdown",
   "metadata": {},
   "source": [
    "### RAW data logs"
   ]
  },
  {
   "cell_type": "code",
   "execution_count": 2,
   "metadata": {},
   "outputs": [],
   "source": [
    "dir_path = '../logs_v2/'"
   ]
  },
  {
   "cell_type": "code",
   "execution_count": 3,
   "metadata": {},
   "outputs": [],
   "source": [
    "times_dict = {\n",
    "    'bucket_split_time': None,\n",
    "    'bucket_sort_time': None,\n",
    "    'bucket_to_array_time': None,\n",
    "    'table_fill_time': None,\n",
    "    'program_time': None\n",
    "}"
   ]
  },
  {
   "cell_type": "code",
   "execution_count": 4,
   "metadata": {},
   "outputs": [],
   "source": [
    "run_dict = {\n",
    "    'algorithm': None,\n",
    "    'points': None,\n",
    "    'buckets': None,\n",
    "    'threads': None,\n",
    "    'times': []\n",
    "}"
   ]
  },
  {
   "cell_type": "code",
   "execution_count": 5,
   "metadata": {},
   "outputs": [],
   "source": [
    "all_run_dict_raw_data = []"
   ]
  },
  {
   "cell_type": "code",
   "execution_count": 6,
   "metadata": {},
   "outputs": [],
   "source": [
    "df = pd.DataFrame()\n",
    "\n",
    "for filename in os.listdir(dir_path):\n",
    "    if filename.endswith('.log'):\n",
    "        # Create new entry structures\n",
    "        tmp_run_dict = copy.deepcopy(run_dict)\n",
    "        tmp_times_dict = copy.deepcopy(times_dict)\n",
    "        \n",
    "        # Fill run_dict structure\n",
    "        run_specification = filename.split('_')\n",
    "        tmp_run_dict['algorithm'] = int(run_specification[1])\n",
    "        tmp_run_dict['points'] = int(run_specification[3])\n",
    "        tmp_run_dict['buckets'] = int(run_specification[5])\n",
    "        tmp_run_dict['threads'] = int(run_specification[7][0])\n",
    "        \n",
    "        # Fill times_dict structure\n",
    "        with open(dir_path+filename, 'r') as file_object:\n",
    "            for line in file_object:\n",
    "                if line.startswith('-'):\n",
    "                    continue\n",
    "                elif line.startswith('program_time'):\n",
    "                    line_words = line.split(' ')\n",
    "                    tmp_times_dict[line_words[0]] = line_words[1]\n",
    "                    tmp_run_dict['times'].append(copy.deepcopy(tmp_times_dict))\n",
    "                else:\n",
    "                    line_words = line.split(' ')\n",
    "                    tmp_times_dict[line_words[0]] = line_words[1]\n",
    "\n",
    "        all_run_dict_raw_data.append(copy.deepcopy(tmp_run_dict))"
   ]
  },
  {
   "cell_type": "code",
   "execution_count": 7,
   "metadata": {},
   "outputs": [
    {
     "data": {
      "text/plain": [
       "[{'algorithm': 2,\n",
       "  'points': 4000000,\n",
       "  'buckets': 4000,\n",
       "  'threads': 1,\n",
       "  'times': [{'bucket_split_time': '0.28265',\n",
       "    'bucket_sort_time': '0.959882',\n",
       "    'bucket_to_array_time': '0.077969',\n",
       "    'table_fill_time': '0.737158',\n",
       "    'program_time': '2.07413'},\n",
       "   {'bucket_split_time': '0.279278',\n",
       "    'bucket_sort_time': '0.960031',\n",
       "    'bucket_to_array_time': '0.077839',\n",
       "    'table_fill_time': '0.739677',\n",
       "    'program_time': '2.0736'},\n",
       "   {'bucket_split_time': '0.271498',\n",
       "    'bucket_sort_time': '0.96063',\n",
       "    'bucket_to_array_time': '0.077975',\n",
       "    'table_fill_time': '0.739879',\n",
       "    'program_time': '2.06587'},\n",
       "   {'bucket_split_time': '0.281143',\n",
       "    'bucket_sort_time': '0.960846',\n",
       "    'bucket_to_array_time': '0.077841',\n",
       "    'table_fill_time': '0.736966',\n",
       "    'program_time': '2.07341'},\n",
       "   {'bucket_split_time': '0.27707',\n",
       "    'bucket_sort_time': '0.958175',\n",
       "    'bucket_to_array_time': '0.077684',\n",
       "    'table_fill_time': '0.738498',\n",
       "    'program_time': '2.06877'},\n",
       "   {'bucket_split_time': '0.276088',\n",
       "    'bucket_sort_time': '0.960202',\n",
       "    'bucket_to_array_time': '0.077435',\n",
       "    'table_fill_time': '0.739101',\n",
       "    'program_time': '2.06959'},\n",
       "   {'bucket_split_time': '0.279243',\n",
       "    'bucket_sort_time': '0.961013',\n",
       "    'bucket_to_array_time': '0.077167',\n",
       "    'table_fill_time': '0.737397',\n",
       "    'program_time': '2.07148'},\n",
       "   {'bucket_split_time': '0.277812',\n",
       "    'bucket_sort_time': '0.959647',\n",
       "    'bucket_to_array_time': '0.076883',\n",
       "    'table_fill_time': '0.739726',\n",
       "    'program_time': '2.07155'},\n",
       "   {'bucket_split_time': '0.278995',\n",
       "    'bucket_sort_time': '0.960115',\n",
       "    'bucket_to_array_time': '0.076752',\n",
       "    'table_fill_time': '0.740121',\n",
       "    'program_time': '2.07365'},\n",
       "   {'bucket_split_time': '0.276872',\n",
       "    'bucket_sort_time': '0.958827',\n",
       "    'bucket_to_array_time': '0.076969',\n",
       "    'table_fill_time': '0.73723',\n",
       "    'program_time': '2.06665'}]},\n",
       " {'algorithm': 1,\n",
       "  'points': 4000000,\n",
       "  'buckets': 400000,\n",
       "  'threads': 4,\n",
       "  'times': [{'bucket_split_time': '1.13556',\n",
       "    'bucket_sort_time': '0.173954',\n",
       "    'bucket_to_array_time': '0.102701',\n",
       "    'table_fill_time': '0.317987',\n",
       "    'program_time': '1.95226'},\n",
       "   {'bucket_split_time': '0.785992',\n",
       "    'bucket_sort_time': '0.157118',\n",
       "    'bucket_to_array_time': '0.100304',\n",
       "    'table_fill_time': '0.398956',\n",
       "    'program_time': '1.63081'},\n",
       "   {'bucket_split_time': '1.1001',\n",
       "    'bucket_sort_time': '0.158855',\n",
       "    'bucket_to_array_time': '0.078501',\n",
       "    'table_fill_time': '0.372487',\n",
       "    'program_time': '1.92185'},\n",
       "   {'bucket_split_time': '0.81973',\n",
       "    'bucket_sort_time': '0.166125',\n",
       "    'bucket_to_array_time': '0.095342',\n",
       "    'table_fill_time': '0.365625',\n",
       "    'program_time': '1.65392'},\n",
       "   {'bucket_split_time': '1.08863',\n",
       "    'bucket_sort_time': '0.169066',\n",
       "    'bucket_to_array_time': '0.098485',\n",
       "    'table_fill_time': '0.360481',\n",
       "    'program_time': '1.93395'},\n",
       "   {'bucket_split_time': '0.92551',\n",
       "    'bucket_sort_time': '0.164803',\n",
       "    'bucket_to_array_time': '0.094639',\n",
       "    'table_fill_time': '0.310043',\n",
       "    'program_time': '1.69946'},\n",
       "   {'bucket_split_time': '1.0228',\n",
       "    'bucket_sort_time': '0.192816',\n",
       "    'bucket_to_array_time': '0.124716',\n",
       "    'table_fill_time': '0.357401',\n",
       "    'program_time': '1.90047'},\n",
       "   {'bucket_split_time': '1.03593',\n",
       "    'bucket_sort_time': '0.162014',\n",
       "    'bucket_to_array_time': '0.094721',\n",
       "    'table_fill_time': '0.293558',\n",
       "    'program_time': '1.79202'},\n",
       "   {'bucket_split_time': '0.984134',\n",
       "    'bucket_sort_time': '0.196717',\n",
       "    'bucket_to_array_time': '0.107355',\n",
       "    'table_fill_time': '0.368786',\n",
       "    'program_time': '1.84983'},\n",
       "   {'bucket_split_time': '1.02252',\n",
       "    'bucket_sort_time': '0.163911',\n",
       "    'bucket_to_array_time': '0.092278',\n",
       "    'table_fill_time': '0.361833',\n",
       "    'program_time': '1.84475'}]},\n",
       " {'algorithm': 2,\n",
       "  'points': 20000000,\n",
       "  'buckets': 200000,\n",
       "  'threads': 2,\n",
       "  'times': [{'bucket_split_time': '2.89318',\n",
       "    'bucket_sort_time': '1.69064',\n",
       "    'bucket_to_array_time': '0.210012',\n",
       "    'table_fill_time': '2.56048',\n",
       "    'program_time': '7.62401'},\n",
       "   {'bucket_split_time': '2.75647',\n",
       "    'bucket_sort_time': '1.6901',\n",
       "    'bucket_to_array_time': '0.210691',\n",
       "    'table_fill_time': '2.39325',\n",
       "    'program_time': '7.31833'},\n",
       "   {'bucket_split_time': '2.78281',\n",
       "    'bucket_sort_time': '1.67812',\n",
       "    'bucket_to_array_time': '0.209978',\n",
       "    'table_fill_time': '2.46347',\n",
       "    'program_time': '7.40676'},\n",
       "   {'bucket_split_time': '2.80358',\n",
       "    'bucket_sort_time': '1.68608',\n",
       "    'bucket_to_array_time': '0.210475',\n",
       "    'table_fill_time': '2.44629',\n",
       "    'program_time': '7.41801'},\n",
       "   {'bucket_split_time': '2.83918',\n",
       "    'bucket_sort_time': '1.68832',\n",
       "    'bucket_to_array_time': '0.21081',\n",
       "    'table_fill_time': '2.46878',\n",
       "    'program_time': '7.47286'},\n",
       "   {'bucket_split_time': '2.82297',\n",
       "    'bucket_sort_time': '1.68957',\n",
       "    'bucket_to_array_time': '0.210703',\n",
       "    'table_fill_time': '2.50629',\n",
       "    'program_time': '7.50492'},\n",
       "   {'bucket_split_time': '2.80245',\n",
       "    'bucket_sort_time': '1.68298',\n",
       "    'bucket_to_array_time': '0.209216',\n",
       "    'table_fill_time': '2.48121',\n",
       "    'program_time': '7.44136'},\n",
       "   {'bucket_split_time': '2.82215',\n",
       "    'bucket_sort_time': '1.68737',\n",
       "    'bucket_to_array_time': '0.21064',\n",
       "    'table_fill_time': '2.46279',\n",
       "    'program_time': '7.4498'},\n",
       "   {'bucket_split_time': '2.78249',\n",
       "    'bucket_sort_time': '1.67744',\n",
       "    'bucket_to_array_time': '0.210455',\n",
       "    'table_fill_time': '2.44413',\n",
       "    'program_time': '7.38233'},\n",
       "   {'bucket_split_time': '2.86933',\n",
       "    'bucket_sort_time': '1.68614',\n",
       "    'bucket_to_array_time': '0.211899',\n",
       "    'table_fill_time': '2.42328',\n",
       "    'program_time': '7.4568'}]}]"
      ]
     },
     "execution_count": 7,
     "metadata": {},
     "output_type": "execute_result"
    }
   ],
   "source": [
    "all_run_dict_raw_data[:3]"
   ]
  },
  {
   "cell_type": "markdown",
   "metadata": {},
   "source": [
    "### Mean and std_dev data logs"
   ]
  },
  {
   "cell_type": "code",
   "execution_count": 8,
   "metadata": {},
   "outputs": [],
   "source": [
    "run_dict_mean_times = {\n",
    "    'algorithm': None,\n",
    "    'points': None,\n",
    "    'buckets': None,\n",
    "    'threads': None,\n",
    "    'times': {\n",
    "        'bucket_split': {\n",
    "            'mean_time': None,\n",
    "            'std_dev': None },\n",
    "        'bucket_sort': {\n",
    "            'mean_time': None,\n",
    "            'std_dev': None },\n",
    "        'bucket_to_array': {\n",
    "            'mean_time': None,\n",
    "            'std_dev': None },\n",
    "        'table_fill': {\n",
    "            'mean_time': None,\n",
    "            'std_dev': None },\n",
    "        'program_execution': {\n",
    "            'mean_time': None,\n",
    "            'std_dev': None }\n",
    "    }\n",
    "}"
   ]
  },
  {
   "cell_type": "code",
   "execution_count": 9,
   "metadata": {},
   "outputs": [],
   "source": [
    "def get_measurements(run_measurement, type_of_measurement):\n",
    "    return list(map(lambda x: float(x[type_of_measurement]), run_measurement['times']))"
   ]
  },
  {
   "cell_type": "code",
   "execution_count": 10,
   "metadata": {},
   "outputs": [],
   "source": [
    "all_run_dict_mean_times = []"
   ]
  },
  {
   "cell_type": "code",
   "execution_count": 11,
   "metadata": {},
   "outputs": [],
   "source": [
    "for elem in all_run_dict_raw_data:\n",
    "    # Create new entry structures\n",
    "    tmp_run_dict = copy.deepcopy(run_dict_mean_times)\n",
    "    \n",
    "    tmp_run_dict['algorithm'] = elem['algorithm']\n",
    "    tmp_run_dict['points'] = elem['points']\n",
    "    tmp_run_dict['buckets'] = elem['buckets']\n",
    "    tmp_run_dict['threads'] = elem['threads']\n",
    "    \n",
    "    tmp_run_dict['times']['bucket_split']['mean_time'] = \\\n",
    "        statistics.mean(get_measurements(elem, 'bucket_split_time'))\n",
    "    tmp_run_dict['times']['bucket_split']['std_dev'] = \\\n",
    "        statistics.stdev(get_measurements(elem, 'bucket_split_time'))\n",
    "    tmp_run_dict['times']['bucket_sort']['mean_time'] = \\\n",
    "        statistics.mean(get_measurements(elem, 'bucket_sort_time'))\n",
    "    tmp_run_dict['times']['bucket_sort']['std_dev'] = \\\n",
    "        statistics.stdev(get_measurements(elem, 'bucket_sort_time')) \n",
    "    tmp_run_dict['times']['bucket_to_array']['mean_time'] = \\\n",
    "        statistics.mean(get_measurements(elem, 'bucket_to_array_time'))\n",
    "    tmp_run_dict['times']['bucket_to_array']['std_dev'] = \\\n",
    "        statistics.stdev(get_measurements(elem, 'bucket_to_array_time')) \n",
    "    tmp_run_dict['times']['table_fill']['mean_time'] = \\\n",
    "        statistics.mean(get_measurements(elem, 'table_fill_time'))\n",
    "    tmp_run_dict['times']['table_fill']['std_dev'] = \\\n",
    "        statistics.stdev(get_measurements(elem, 'table_fill_time')) \n",
    "    tmp_run_dict['times']['program_execution']['mean_time'] = \\\n",
    "        statistics.mean(get_measurements(elem, 'program_time'))\n",
    "    tmp_run_dict['times']['program_execution']['std_dev'] = \\\n",
    "        statistics.stdev(get_measurements(elem, 'program_time'))\n",
    "    \n",
    "    all_run_dict_mean_times.append(copy.deepcopy(tmp_run_dict))"
   ]
  },
  {
   "cell_type": "code",
   "execution_count": 12,
   "metadata": {},
   "outputs": [
    {
     "data": {
      "text/plain": [
       "[{'algorithm': 2,\n",
       "  'points': 4000000,\n",
       "  'buckets': 4000,\n",
       "  'threads': 1,\n",
       "  'times': {'bucket_split': {'mean_time': 0.2780649,\n",
       "    'std_dev': 0.003050165075678507},\n",
       "   'bucket_sort': {'mean_time': 0.9599368, 'std_dev': 0.0008818490422591224},\n",
       "   'bucket_to_array': {'mean_time': 0.0774514,\n",
       "    'std_dev': 0.00047425876668521084},\n",
       "   'table_fill': {'mean_time': 0.7385753, 'std_dev': 0.0012782722758125946},\n",
       "   'program_execution': {'mean_time': 2.07087,\n",
       "    'std_dev': 0.0030175744490493453}}},\n",
       " {'algorithm': 1,\n",
       "  'points': 4000000,\n",
       "  'buckets': 400000,\n",
       "  'threads': 4,\n",
       "  'times': {'bucket_split': {'mean_time': 0.9920906,\n",
       "    'std_dev': 0.1164480603036774},\n",
       "   'bucket_sort': {'mean_time': 0.1705379, 'std_dev': 0.01366672582466871},\n",
       "   'bucket_to_array': {'mean_time': 0.0989042, 'std_dev': 0.01184526796094823},\n",
       "   'table_fill': {'mean_time': 0.3507157, 'std_dev': 0.03267011324352036},\n",
       "   'program_execution': {'mean_time': 1.817932,\n",
       "    'std_dev': 0.11901165823378632}}}]"
      ]
     },
     "execution_count": 12,
     "metadata": {},
     "output_type": "execute_result"
    }
   ],
   "source": [
    "all_run_dict_mean_times[:2]"
   ]
  },
  {
   "cell_type": "markdown",
   "metadata": {},
   "source": [
    "# Exercise 3"
   ]
  },
  {
   "cell_type": "code",
   "execution_count": 13,
   "metadata": {},
   "outputs": [],
   "source": [
    "point_types = set(map(lambda x: x['points'], all_run_dict_mean_times))\n",
    "buckets_types = set(map(lambda x: x['buckets'], all_run_dict_mean_times))\n",
    "threads_types = set(map(lambda x: x['threads'], all_run_dict_mean_times))"
   ]
  },
  {
   "cell_type": "code",
   "execution_count": 14,
   "metadata": {},
   "outputs": [],
   "source": [
    "speedup_dict = {\n",
    "    'algorithm': None,\n",
    "    'points': None,\n",
    "    'buckets': None,\n",
    "    'threads': {\n",
    "        'bucket_split': {\n",
    "            '2': None,\n",
    "            '3': None,\n",
    "            '4': None\n",
    "        },\n",
    "        'bucket_sort': {\n",
    "            '2': None,\n",
    "            '3': None,\n",
    "            '4': None\n",
    "        },\n",
    "        'bucket_to_array': {\n",
    "            '2': None,\n",
    "            '3': None,\n",
    "            '4': None\n",
    "        },\n",
    "        'table_fill': {\n",
    "            '2': None,\n",
    "            '3': None,\n",
    "            '4': None\n",
    "        },\n",
    "        'program_execution': {\n",
    "            '2': None,\n",
    "            '3': None,\n",
    "            '4': None\n",
    "        }\n",
    "    }\n",
    "}"
   ]
  },
  {
   "cell_type": "markdown",
   "metadata": {},
   "source": [
    "### algorithm 2"
   ]
  },
  {
   "cell_type": "code",
   "execution_count": 15,
   "metadata": {},
   "outputs": [],
   "source": [
    "algorithm_2_runs = list(filter(lambda x: x['algorithm'] == 2, all_run_dict_mean_times))"
   ]
  },
  {
   "cell_type": "code",
   "execution_count": 27,
   "metadata": {},
   "outputs": [],
   "source": [
    "algorithm_2_speedup = []"
   ]
  },
  {
   "cell_type": "code",
   "execution_count": 28,
   "metadata": {},
   "outputs": [],
   "source": [
    "for points in point_types:\n",
    "    selected_elems = list(filter(lambda x: x['points']==points and \\\n",
    "                                           x['buckets']==points/10, \n",
    "                                           algorithm_2_runs))\n",
    "\n",
    "    if len(selected_elems) == 4:\n",
    "        # Create new entry structures\n",
    "        tmp_run_dict = copy.deepcopy(speedup_dict)\n",
    "\n",
    "        tmp_run_dict['algorithm'] = selected_elems[0]['algorithm']\n",
    "        tmp_run_dict['points'] = selected_elems[0]['points']\n",
    "        tmp_run_dict['buckets'] = selected_elems[0]['buckets']\n",
    "\n",
    "        time_1_threads_bucket_split = float(list(filter(lambda x: x['threads'] == 1, selected_elems))[0]['times']['bucket_split']['mean_time'])\n",
    "        time_2_threads_bucket_split = float(list(filter(lambda x: x['threads'] == 2, selected_elems))[0]['times']['bucket_split']['mean_time'])\n",
    "        time_3_threads_bucket_split = float(list(filter(lambda x: x['threads'] == 3, selected_elems))[0]['times']['bucket_split']['mean_time'])\n",
    "        time_4_threads_bucket_split = float(list(filter(lambda x: x['threads'] == 4, selected_elems))[0]['times']['bucket_split']['mean_time'])\n",
    "\n",
    "        time_1_threads_bucket_sort = float(list(filter(lambda x: x['threads'] == 1, selected_elems))[0]['times']['bucket_sort']['mean_time'])\n",
    "        time_2_threads_bucket_sort = float(list(filter(lambda x: x['threads'] == 2, selected_elems))[0]['times']['bucket_sort']['mean_time'])\n",
    "        time_3_threads_bucket_sort = float(list(filter(lambda x: x['threads'] == 3, selected_elems))[0]['times']['bucket_sort']['mean_time'])\n",
    "        time_4_threads_bucket_sort = float(list(filter(lambda x: x['threads'] == 4, selected_elems))[0]['times']['bucket_sort']['mean_time'])\n",
    "\n",
    "        time_1_threads_bucket_to_array = float(list(filter(lambda x: x['threads'] == 1, selected_elems))[0]['times']['bucket_to_array']['mean_time'])\n",
    "        time_2_threads_bucket_to_array = float(list(filter(lambda x: x['threads'] == 2, selected_elems))[0]['times']['bucket_to_array']['mean_time'])\n",
    "        time_3_threads_bucket_to_array = float(list(filter(lambda x: x['threads'] == 3, selected_elems))[0]['times']['bucket_to_array']['mean_time'])\n",
    "        time_4_threads_bucket_to_array = float(list(filter(lambda x: x['threads'] == 4, selected_elems))[0]['times']['bucket_to_array']['mean_time'])\n",
    "\n",
    "        time_1_threads_table_fill = float(list(filter(lambda x: x['threads'] == 1, selected_elems))[0]['times']['table_fill']['mean_time'])\n",
    "        time_2_threads_table_fill = float(list(filter(lambda x: x['threads'] == 2, selected_elems))[0]['times']['table_fill']['mean_time'])\n",
    "        time_3_threads_table_fill = float(list(filter(lambda x: x['threads'] == 3, selected_elems))[0]['times']['table_fill']['mean_time'])\n",
    "        time_4_threads_table_fill = float(list(filter(lambda x: x['threads'] == 4, selected_elems))[0]['times']['table_fill']['mean_time'])\n",
    "\n",
    "        time_1_threads_program_execution = float(list(filter(lambda x: x['threads'] == 1, selected_elems))[0]['times']['program_execution']['mean_time'])\n",
    "        time_2_threads_program_execution = float(list(filter(lambda x: x['threads'] == 2, selected_elems))[0]['times']['program_execution']['mean_time'])\n",
    "        time_3_threads_program_execution = float(list(filter(lambda x: x['threads'] == 3, selected_elems))[0]['times']['program_execution']['mean_time'])\n",
    "        time_4_threads_program_execution = float(list(filter(lambda x: x['threads'] == 4, selected_elems))[0]['times']['program_execution']['mean_time'])\n",
    "\n",
    "        tmp_run_dict['threads']['bucket_split']['2'] = time_1_threads_bucket_split / time_2_threads_bucket_split\n",
    "        tmp_run_dict['threads']['bucket_split']['3'] = time_1_threads_bucket_split / time_3_threads_bucket_split\n",
    "        tmp_run_dict['threads']['bucket_split']['4'] = time_1_threads_bucket_split / time_4_threads_bucket_split\n",
    "\n",
    "        tmp_run_dict['threads']['bucket_sort']['2'] = time_1_threads_bucket_sort / time_2_threads_bucket_sort\n",
    "        tmp_run_dict['threads']['bucket_sort']['3'] = time_1_threads_bucket_sort / time_3_threads_bucket_sort\n",
    "        tmp_run_dict['threads']['bucket_sort']['4'] = time_1_threads_bucket_sort / time_4_threads_bucket_sort\n",
    "\n",
    "        tmp_run_dict['threads']['bucket_to_array']['2'] = time_1_threads_bucket_to_array / time_2_threads_bucket_to_array\n",
    "        tmp_run_dict['threads']['bucket_to_array']['3'] = time_1_threads_bucket_to_array / time_3_threads_bucket_to_array\n",
    "        tmp_run_dict['threads']['bucket_to_array']['4'] = time_1_threads_bucket_to_array / time_4_threads_bucket_to_array\n",
    "\n",
    "        tmp_run_dict['threads']['table_fill']['2'] = time_1_threads_table_fill / time_2_threads_table_fill\n",
    "        tmp_run_dict['threads']['table_fill']['3'] = time_1_threads_table_fill / time_3_threads_table_fill\n",
    "        tmp_run_dict['threads']['table_fill']['4'] = time_1_threads_table_fill / time_4_threads_table_fill\n",
    "\n",
    "        tmp_run_dict['threads']['program_execution']['2'] = time_1_threads_program_execution / time_2_threads_program_execution\n",
    "        tmp_run_dict['threads']['program_execution']['3'] = time_1_threads_program_execution / time_3_threads_program_execution\n",
    "        tmp_run_dict['threads']['program_execution']['4'] = time_1_threads_program_execution / time_4_threads_program_execution\n",
    "\n",
    "        algorithm_2_speedup.append(copy.deepcopy(tmp_run_dict))"
   ]
  },
  {
   "cell_type": "code",
   "execution_count": 29,
   "metadata": {},
   "outputs": [],
   "source": [
    "algorithm_2_point_types = set(map(lambda x: x['points'], algorithm_2_speedup))\n",
    "algorithm_2_buckets_types = set(map(lambda x: x['buckets'], algorithm_2_speedup))"
   ]
  },
  {
   "cell_type": "code",
   "execution_count": 39,
   "metadata": {},
   "outputs": [],
   "source": [
    "algorithm_2_speedup = sorted(algorithm_2_speedup, key=lambda x: x['points'])"
   ]
  },
  {
   "cell_type": "code",
   "execution_count": 47,
   "metadata": {},
   "outputs": [],
   "source": [
    "bucket_split_2_threads = []\n",
    "bucket_split_3_threads = []\n",
    "bucket_split_4_threads = []\n",
    "bucket_sort_2_threads = []\n",
    "bucket_sort_3_threads = []\n",
    "bucket_sort_4_threads = []\n",
    "bucket_to_array_2_threads = []\n",
    "bucket_to_array_3_threads = []\n",
    "bucket_to_array_4_threads = []\n",
    "table_fill_2_threads = []\n",
    "table_fill_3_threads = []\n",
    "table_fill_4_threads = []\n",
    "program_execution_2_threads = []\n",
    "program_execution_3_threads = []\n",
    "program_execution_4_threads = []"
   ]
  },
  {
   "cell_type": "code",
   "execution_count": 48,
   "metadata": {},
   "outputs": [],
   "source": [
    "for elem in algorithm_2_speedup:\n",
    "    bucket_split_2_threads.append(elem['threads']['bucket_split']['2'])\n",
    "    bucket_split_3_threads.append(elem['threads']['bucket_split']['3'])\n",
    "    bucket_split_4_threads.append(elem['threads']['bucket_split']['4'])\n",
    "    bucket_sort_2_threads.append(elem['threads']['bucket_sort']['2'])\n",
    "    bucket_sort_3_threads.append(elem['threads']['bucket_sort']['3'])\n",
    "    bucket_sort_4_threads.append(elem['threads']['bucket_sort']['4'])\n",
    "    bucket_to_array_2_threads.append(elem['threads']['bucket_to_array']['2'])\n",
    "    bucket_to_array_3_threads.append(elem['threads']['bucket_to_array']['3'])\n",
    "    bucket_to_array_4_threads.append(elem['threads']['bucket_to_array']['4'])\n",
    "    table_fill_2_threads.append(elem['threads']['table_fill']['2'])\n",
    "    table_fill_3_threads.append(elem['threads']['table_fill']['3'])\n",
    "    table_fill_4_threads.append(elem['threads']['table_fill']['4'])\n",
    "    program_execution_2_threads.append(elem['threads']['program_execution']['2'])\n",
    "    program_execution_3_threads.append(elem['threads']['program_execution']['3'])\n",
    "    program_execution_4_threads.append(elem['threads']['program_execution']['4'])"
   ]
  },
  {
   "cell_type": "code",
   "execution_count": 64,
   "metadata": {},
   "outputs": [],
   "source": [
    "y = sorted(list(algorithm_2_point_types))"
   ]
  },
  {
   "cell_type": "code",
   "execution_count": 68,
   "metadata": {},
   "outputs": [
    {
     "data": {
      "image/png": "[encoded data removed]",
      "text/plain": [
       "<Figure size 432x288 with 1 Axes>"
      ]
     },
     "metadata": {
      "needs_background": "light"
     },
     "output_type": "display_data"
    }
   ],
   "source": [
    "plt.scatter(bucket_split_2_threads, y, c='green')\n",
    "plt.scatter(bucket_sort_2_threads, y, c='red')\n",
    "plt.scatter(bucket_to_array_2_threads, y, c='blue')\n",
    "plt.scatter(table_fill_2_threads, y, c='orange')\n",
    "plt.scatter(program_execution_2_threads, y, c='purple')\n",
    "plt.show()"
   ]
  },
  {
   "cell_type": "code",
   "execution_count": 69,
   "metadata": {},
   "outputs": [
    {
     "data": {
      "image/png": "[encoded data removed]",
      "text/plain": [
       "<Figure size 432x288 with 1 Axes>"
      ]
     },
     "metadata": {
      "needs_background": "light"
     },
     "output_type": "display_data"
    }
   ],
   "source": [
    "plt.scatter(bucket_split_3_threads, y, c='green')\n",
    "plt.scatter(bucket_sort_3_threads, y, c='red')\n",
    "plt.scatter(bucket_to_array_3_threads, y, c='blue')\n",
    "plt.scatter(table_fill_3_threads, y, c='orange')\n",
    "plt.scatter(program_execution_3_threads, y, c='purple')\n",
    "plt.show()"
   ]
  },
  {
   "cell_type": "code",
   "execution_count": 70,
   "metadata": {},
   "outputs": [
    {
     "data": {
      "image/png": "[encoded data removed]",
      "text/plain": [
       "<Figure size 432x288 with 1 Axes>"
      ]
     },
     "metadata": {
      "needs_background": "light"
     },
     "output_type": "display_data"
    }
   ],
   "source": [
    "plt.scatter(bucket_split_4_threads, y, c='green')\n",
    "plt.scatter(bucket_sort_4_threads, y, c='red')\n",
    "plt.scatter(bucket_to_array_4_threads, y, c='blue')\n",
    "plt.scatter(table_fill_4_threads, y, c='orange')\n",
    "plt.scatter(program_execution_4_threads, y, c='purple')\n",
    "plt.show()"
   ]
  }
 ],
 "metadata": {
  "kernelspec": {
   "display_name": "Python 3",
   "language": "python",
   "name": "python3"
  },
  "language_info": {
   "codemirror_mode": {
    "name": "ipython",
    "version": 3
   },
   "file_extension": ".py",
   "mimetype": "text/x-python",
   "name": "python",
   "nbconvert_exporter": "python",
   "pygments_lexer": "ipython3",
   "version": "3.8.5"
  }
 },
 "nbformat": 4,
 "nbformat_minor": 4
}
