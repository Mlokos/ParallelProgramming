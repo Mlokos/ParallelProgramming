{
 "cells": [
  {
   "cell_type": "code",
   "execution_count": 12,
   "metadata": {},
   "outputs": [],
   "source": [
    "import statistics\n",
    "import matplotlib.pyplot as plt\n",
    "import numpy as np"
   ]
  },
  {
   "cell_type": "markdown",
   "metadata": {},
   "source": [
    "# Part 1: Sequential version"
   ]
  },
  {
   "cell_type": "code",
   "execution_count": 1,
   "metadata": {},
   "outputs": [],
   "source": [
    "sequential_results = { \"sequential_1e2\": _,\n",
    "                       \"sequential_1e4\": _,\n",
    "                       \"sequential_1e6\": _,\n",
    "                       \"sequential_1e8\": _ }"
   ]
  },
  {
   "cell_type": "code",
   "execution_count": 9,
   "metadata": {},
   "outputs": [],
   "source": [
    "def get_results_from_file(name):\n",
    "    with open(\"sequential_log/\" + name + \".log\", \"r\") as f:\n",
    "        results = []\n",
    "        for line in f:\n",
    "            results.append(float(line))\n",
    "    return results"
   ]
  },
  {
   "cell_type": "code",
   "execution_count": 10,
   "metadata": {},
   "outputs": [],
   "source": [
    "for name in sequential_results:\n",
    "    sequential_results[name] = get_results_from_file(name)"
   ]
  },
  {
   "cell_type": "code",
   "execution_count": 22,
   "metadata": {},
   "outputs": [],
   "source": [
    "def get_mean_and_stdev_for_sequential(name):\n",
    "    result_mean = statistics.mean(sequential_results[name])\n",
    "    result_stdev = statistics.stdev(sequential_results[name])\n",
    "    \n",
    "    return (result_mean, result_stdev)"
   ]
  },
  {
   "cell_type": "code",
   "execution_count": 26,
   "metadata": {},
   "outputs": [],
   "source": [
    "x = np.array([1, 2, 3, 4])\n",
    "y = np.array([])\n",
    "e = np.array([])\n",
    "for name in sequential_results:\n",
    "    result_mean, result_stdev = get_mean_and_stdev_for_sequential(name)\n",
    "    y = np.append(y, result_mean)\n",
    "    e = np.append(e, result_stdev)"
   ]
  },
  {
   "cell_type": "code",
   "execution_count": 27,
   "metadata": {},
   "outputs": [
    {
     "data": {
      "image/png": "[encoded data removed]",
      "text/plain": [
       "<Figure size 432x288 with 1 Axes>"
      ]
     },
     "metadata": {
      "needs_background": "light"
     },
     "output_type": "display_data"
    }
   ],
   "source": [
    "plt.errorbar(x, y, e, linestyle='None', marker='^')\n",
    "plt.show()"
   ]
  },
  {
   "cell_type": "code",
   "execution_count": 31,
   "metadata": {},
   "outputs": [
    {
     "data": {
      "text/plain": [
       "[('1e2', (3.13964, 0.15685558349664852)),\n",
       " ('1e4', (3.140516, 0.016026584021412528)),\n",
       " ('1e6', (3.141492492, 0.0016330240161655312)),\n",
       " ('1e8', (3.14159719, 0.00015813353887178796))]"
      ]
     },
     "execution_count": 31,
     "metadata": {},
     "output_type": "execute_result"
    }
   ],
   "source": [
    "list(zip([\"1e2\", \"1e4\", \"1e6\", \"1e8\"], list(zip(y, e))))"
   ]
  },
  {
   "cell_type": "markdown",
   "metadata": {},
   "source": [
    "# Part 2: Parallel version"
   ]
  },
  {
   "cell_type": "markdown",
   "metadata": {},
   "source": [
    "# Report [PL]"
   ]
  },
  {
   "cell_type": "markdown",
   "metadata": {},
   "source": [
    "## Wersja sekwencyjna"
   ]
  },
  {
   "cell_type": "markdown",
   "metadata": {},
   "source": [
    "Wraz ze zwiększaniem liczby losowanych punktów rosła dokładność obliczeń liczby PI. <br>\n",
    "Odchylenie standardowe zmniejszało się wraz z pierwiastkiem ilości losowanych punktów (0.16 dla 1e2, 0.016 dla 1e4)"
   ]
  }
 ],
 "metadata": {
  "kernelspec": {
   "display_name": "Python 3",
   "language": "python",
   "name": "python3"
  },
  "language_info": {
   "codemirror_mode": {
    "name": "ipython",
    "version": 3
   },
   "file_extension": ".py",
   "mimetype": "text/x-python",
   "name": "python",
   "nbconvert_exporter": "python",
   "pygments_lexer": "ipython3",
   "version": "3.8.5"
  }
 },
 "nbformat": 4,
 "nbformat_minor": 4
}
